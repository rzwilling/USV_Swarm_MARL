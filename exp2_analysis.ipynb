{
 "cells": [
  {
   "cell_type": "code",
   "execution_count": 9,
   "metadata": {},
   "outputs": [],
   "source": [
    "import json\n",
    "import seaborn as sns\n",
    "import pandas as pd\n",
    "import re\n",
    "import matplotlib.pyplot as plt\n",
    "import numpy as np\n"
   ]
  },
  {
   "cell_type": "code",
   "execution_count": 10,
   "metadata": {},
   "outputs": [],
   "source": [
    "def get_df(log_file_path):\n",
    "        \n",
    "    data = []\n",
    "\n",
    "    pattern = r\"Episode:\\s+(\\d+)\\s+\\| blue win:\\s+([\\d.]+)\\s+\\| red win:\\s+([\\d.]+)\\s+\\| draw:\\s+([\\d.]+)\\s+\\| blue reward:\\s+([\\d.]+)\\s+\\| timestep:\\s+([\\d.]+)\\s+\\| blue catch:\\s+([\\d.]+)\\s+\\| blue attack:\\s+([\\d.]+)\\s+\\| blue island dead:\\s+([\\d.]+)\\s+\\| blue reward feedback:\\s+([\\d.]+)\\s+\\| seed:\\s+([\\d.]+)\"\n",
    "\n",
    "    with open(log_file_path, 'r') as file:\n",
    "        for line in file:\n",
    "            match = re.search(pattern, line)\n",
    "            if match:\n",
    "                data.append({\n",
    "                    \"Episode\": int(match.group(1)),\n",
    "                    \"blue win\": float(match.group(2)),\n",
    "                    \"red win\": float(match.group(3)),\n",
    "                    \"draw\": float(match.group(4)),\n",
    "                    \"blue reward\": float(match.group(5)),\n",
    "                    \"timestep\": float(match.group(6)),\n",
    "                    \"blue catch\": float(match.group(7)),\n",
    "                    \"blue attack\": float(match.group(8)),\n",
    "                    \"blue island dead\": float(match.group(9)),\n",
    "                    \"blue reward feedback\": float(match.group(10)),\n",
    "                    \"seed\": float(match.group(11))\n",
    "                })\n",
    "\n",
    "    df = pd.DataFrame(data)\n",
    "    df[\"Episode\"] = df[\"Episode\"] - 1\n",
    "    \n",
    "    return df "
   ]
  },
  {
   "cell_type": "code",
   "execution_count": 11,
   "metadata": {},
   "outputs": [],
   "source": [
    "\n",
    "log_file_path = r\"C:\\Users\\rvmzw\\Documents\\GitHub\\USV_Swarm_MARL\\results_for_analysis\\exp_2_baseline.log\"\n",
    "\n",
    "baseline = get_df(log_file_path)\n",
    "\n",
    "log_file_path = r\"C:\\Users\\rvmzw\\Documents\\GitHub\\USV_Swarm_MARL\\results_for_analysis\\exp_2_approachA.log\"\n",
    "\n",
    "approach_a = get_df(log_file_path)\n",
    "\n",
    "log_file_path = r\"C:\\Users\\rvmzw\\Documents\\GitHub\\USV_Swarm_MARL\\results_for_analysis\\exp_2_approachB.log\" \n",
    "\n",
    "approach_b = get_df(log_file_path)\n",
    "\n"
   ]
  },
  {
   "cell_type": "code",
   "execution_count": 12,
   "metadata": {},
   "outputs": [],
   "source": [
    "log_file_path = r\"C:\\Users\\rvmzw\\Documents\\GitHub\\USV_Swarm_MARL\\results_for_analysis\\evaluation.log\"\n",
    "\n",
    "approach_a2 = get_df(log_file_path)"
   ]
  },
  {
   "cell_type": "code",
   "execution_count": 13,
   "metadata": {},
   "outputs": [
    {
     "data": {
      "text/plain": [
       "blue win             0.000000\n",
       "red win              1.000000\n",
       "draw                 0.000000\n",
       "blue reward         13.116908\n",
       "blue catch           0.182000\n",
       "blue attack          1.795830\n",
       "blue island dead     0.276000\n",
       "dtype: float64"
      ]
     },
     "execution_count": 13,
     "metadata": {},
     "output_type": "execute_result"
    }
   ],
   "source": [
    "baseline[['blue win', 'red win', 'draw', 'blue reward', 'blue catch', 'blue attack', 'blue island dead']].mean()"
   ]
  },
  {
   "cell_type": "code",
   "execution_count": 14,
   "metadata": {},
   "outputs": [
    {
     "data": {
      "text/plain": [
       "blue win             0.000000\n",
       "red win              1.000000\n",
       "draw                 0.000000\n",
       "blue reward         12.794016\n",
       "blue catch           0.192000\n",
       "blue attack          1.783076\n",
       "blue island dead     0.422000\n",
       "dtype: float64"
      ]
     },
     "execution_count": 14,
     "metadata": {},
     "output_type": "execute_result"
    }
   ],
   "source": [
    "approach_a[['blue win', 'red win', 'draw', 'blue reward', 'blue catch', 'blue attack', 'blue island dead']].mean()"
   ]
  },
  {
   "cell_type": "code",
   "execution_count": 15,
   "metadata": {},
   "outputs": [
    {
     "data": {
      "text/plain": [
       "blue win             0.000000\n",
       "red win              1.000000\n",
       "draw                 0.000000\n",
       "blue reward         10.769184\n",
       "blue catch           0.204409\n",
       "blue attack          1.620499\n",
       "blue island dead     1.162325\n",
       "dtype: float64"
      ]
     },
     "execution_count": 15,
     "metadata": {},
     "output_type": "execute_result"
    }
   ],
   "source": [
    "approach_b[['blue win', 'red win', 'draw', 'blue reward', 'blue catch', 'blue attack', 'blue island dead']].mean()"
   ]
  },
  {
   "cell_type": "code",
   "execution_count": null,
   "metadata": {},
   "outputs": [],
   "source": []
  }
 ],
 "metadata": {
  "kernelspec": {
   "display_name": "newenv",
   "language": "python",
   "name": "python3"
  },
  "language_info": {
   "codemirror_mode": {
    "name": "ipython",
    "version": 3
   },
   "file_extension": ".py",
   "mimetype": "text/x-python",
   "name": "python",
   "nbconvert_exporter": "python",
   "pygments_lexer": "ipython3",
   "version": "3.9.21"
  }
 },
 "nbformat": 4,
 "nbformat_minor": 2
}
