{
 "cells": [
  {
   "cell_type": "code",
   "execution_count": 1,
   "metadata": {},
   "outputs": [],
   "source": [
    "import os\n",
    "from os.path import join as pjoin\n",
    "import time\n",
    "import argparse\n",
    "import random\n",
    "\n",
    "\n",
    "from env.USVEnv import USVEnv\n",
    "from utils.logger import Logger\n",
    "from utils.load_model import load_config, load_model, save_config, save_model \n",
    "from env.heuristic.policy_red import PigeonRed\n",
    "from env.heuristic.policy_blue import * #DDPG, MADDPG, HeuristicBluePolicy, SimpleActorCritic, GNNModel, GNNEmbeddingLayer, GNNCommunicationLayer, MLP, MLP_Q\n",
    "import torch"
   ]
  },
  {
   "cell_type": "code",
   "execution_count": 8,
   "metadata": {},
   "outputs": [],
   "source": [
    "from utils.w_comm_config import Config\n",
    "model_dir = r'C:\\Users\\rvmzw\\Documents\\GitHub\\USV_Swarm_MARL\\results_for_analysis\\old_w_comm_team_724_model_49999.pth'\n",
    "\n",
    "\n",
    "\n",
    "config = Config()\n",
    "config.num_red = 10\n",
    "config.num_blue = 6\n",
    "config.communication_range = 7.5\n",
    "config.random_seed = 9723"
   ]
  },
  {
   "cell_type": "code",
   "execution_count": 9,
   "metadata": {},
   "outputs": [
    {
     "name": "stderr",
     "output_type": "stream",
     "text": [
      "c:\\Users\\rvmzw\\Documents\\GitHub\\USV_Swarm_MARL\\utils\\load_model.py:28: FutureWarning: You are using `torch.load` with `weights_only=False` (the current default value), which uses the default pickle module implicitly. It is possible to construct malicious pickle data which will execute arbitrary code during unpickling (See https://github.com/pytorch/pytorch/blob/main/SECURITY.md#untrusted-models for more details). In a future release, the default value for `weights_only` will be flipped to `True`. This limits the functions that could be executed during unpickling. Arbitrary objects will no longer be allowed to be loaded via this mode unless they are explicitly allowlisted by the user via `torch.serialization.add_safe_globals`. We recommend you start setting `weights_only=True` for any use case where you don't have full control of the loaded file. Please open an issue on GitHub for any issues related to this experimental feature.\n",
      "  state = torch.load(file_path)\n"
     ]
    }
   ],
   "source": [
    "env = USVEnv(config)\n",
    "obs_b, obs_r = env.reset()\n",
    "\n",
    "agent_red = PigeonRed(config)\n",
    "agent_blue = MADDPG(config)\n",
    "\n",
    "load_model(agent_blue, model_dir)\n"
   ]
  },
  {
   "cell_type": "code",
   "execution_count": 10,
   "metadata": {},
   "outputs": [],
   "source": [
    "# Adjust for evaluation\n",
    "agent_blue.noise = 0\n",
    "agent_blue.num_blue = config.num_blue\n",
    "agent_blue.num_red = config.num_red\n",
    "agent_blue.actor_gnn.conv3.communication_range = config.communication_range\n"
   ]
  },
  {
   "cell_type": "code",
   "execution_count": 11,
   "metadata": {},
   "outputs": [
    {
     "name": "stdout",
     "output_type": "stream",
     "text": [
      "<utils.w_comm_config.Config object at 0x0000020709F440A0>\n"
     ]
    }
   ],
   "source": [
    "print(config)"
   ]
  },
  {
   "cell_type": "code",
   "execution_count": null,
   "metadata": {},
   "outputs": [],
   "source": []
  },
  {
   "cell_type": "code",
   "execution_count": 12,
   "metadata": {},
   "outputs": [
    {
     "name": "stdout",
     "output_type": "stream",
     "text": [
      "12-24 12:53:07 | Blue-H vs Red-H\n",
      "12-24 12:53:07 | Directory: results\\exp_2_approachA\\evaluation.log\n",
      "12-24 12:53:10 | Episode:     2 | blue win:   0.000 | red win:   1.000 | draw:   0.000 | blue reward:   9.286 | timestep:  83.000 | blue catch:   0.000 | blue attack:   1.257 | blue island dead:   1.000 | blue reward feedback:   0.000 | seed:   4.000\n",
      "12-24 12:53:10 | Episode:     3 | blue win:   0.000 | red win:   1.000 | draw:   0.000 | blue reward:   9.246 | timestep:  83.000 | blue catch:   0.000 | blue attack:   1.230 | blue island dead:   1.000 | blue reward feedback:   0.000 | seed:   5.000\n",
      "12-24 12:53:10 | Episode:     4 | blue win:   0.000 | red win:   1.000 | draw:   0.000 | blue reward:  19.168 | timestep:  83.000 | blue catch:   1.000 | blue attack:   2.179 | blue island dead:   0.000 | blue reward feedback:   0.000 | seed:   7.000\n",
      "12-24 12:53:10 | Episode:     5 | blue win:   0.000 | red win:   1.000 | draw:   0.000 | blue reward:   9.947 | timestep:  83.000 | blue catch:   0.000 | blue attack:   1.698 | blue island dead:   1.000 | blue reward feedback:   0.000 | seed:   8.000\n",
      "12-24 12:53:10 | Episode:     6 | blue win:   0.000 | red win:   1.000 | draw:   0.000 | blue reward:  10.467 | timestep:  83.000 | blue catch:   0.000 | blue attack:   2.045 | blue island dead:   1.000 | blue reward feedback:   0.000 | seed:  10.000\n",
      "12-24 12:53:10 | Episode:     7 | blue win:   0.000 | red win:   1.000 | draw:   0.000 | blue reward:   9.846 | timestep:  84.000 | blue catch:   0.000 | blue attack:   1.431 | blue island dead:   1.000 | blue reward feedback:   0.000 | seed:   1.000\n",
      "12-24 12:53:10 | Episode:     8 | blue win:   0.000 | red win:   1.000 | draw:   0.000 | blue reward:  10.268 | timestep:  84.000 | blue catch:   0.000 | blue attack:   1.712 | blue island dead:   1.000 | blue reward feedback:   0.000 | seed:   2.000\n",
      "12-24 12:53:10 | Episode:     9 | blue win:   0.000 | red win:   1.000 | draw:   0.000 | blue reward:  12.930 | timestep:  84.000 | blue catch:   0.000 | blue attack:   1.820 | blue island dead:   0.000 | blue reward feedback:   0.000 | seed:   3.000\n",
      "12-24 12:53:10 | Episode:    10 | blue win:   0.000 | red win:   1.000 | draw:   0.000 | blue reward:  21.169 | timestep:  84.000 | blue catch:   1.000 | blue attack:   3.313 | blue island dead:   0.000 | blue reward feedback:   0.000 | seed:   6.000\n",
      "12-24 12:53:10 | Episode:    11 | blue win:   0.000 | red win:   1.000 | draw:   0.000 | blue reward:  10.418 | timestep:  85.000 | blue catch:   0.000 | blue attack:   1.612 | blue island dead:   1.000 | blue reward feedback:   0.000 | seed:   9.000\n",
      "12-24 12:53:13 | Episode:    12 | blue win:   0.000 | red win:   1.000 | draw:   0.000 | blue reward:  20.626 | timestep:  83.000 | blue catch:   1.000 | blue attack:   3.151 | blue island dead:   0.000 | blue reward feedback:   0.000 | seed:  11.000\n",
      "12-24 12:53:13 | Episode:    13 | blue win:   0.000 | red win:   1.000 | draw:   0.000 | blue reward:  11.284 | timestep:  83.000 | blue catch:   0.000 | blue attack:   0.923 | blue island dead:   0.000 | blue reward feedback:   0.000 | seed:  14.000\n",
      "12-24 12:53:13 | Episode:    14 | blue win:   0.000 | red win:   1.000 | draw:   0.000 | blue reward:   8.576 | timestep:  83.000 | blue catch:   0.000 | blue attack:   0.784 | blue island dead:   1.000 | blue reward feedback:   0.000 | seed:  15.000\n",
      "12-24 12:53:13 | Episode:    15 | blue win:   0.000 | red win:   1.000 | draw:   0.000 | blue reward:  13.154 | timestep:  83.000 | blue catch:   0.000 | blue attack:   2.170 | blue island dead:   0.000 | blue reward feedback:   0.000 | seed:  16.000\n",
      "12-24 12:53:13 | Episode:    16 | blue win:   0.000 | red win:   1.000 | draw:   0.000 | blue reward:  19.747 | timestep:  83.000 | blue catch:   1.000 | blue attack:   2.565 | blue island dead:   0.000 | blue reward feedback:   0.000 | seed:  19.000\n",
      "12-24 12:53:13 | Episode:    17 | blue win:   0.000 | red win:   1.000 | draw:   0.000 | blue reward:  10.001 | timestep:  84.000 | blue catch:   0.000 | blue attack:   1.534 | blue island dead:   1.000 | blue reward feedback:   0.000 | seed:  13.000\n",
      "12-24 12:53:13 | Episode:    18 | blue win:   0.000 | red win:   1.000 | draw:   0.000 | blue reward:  11.669 | timestep:  84.000 | blue catch:   0.000 | blue attack:   0.979 | blue island dead:   0.000 | blue reward feedback:   0.000 | seed:  17.000\n",
      "12-24 12:53:13 | Episode:    19 | blue win:   0.000 | red win:   1.000 | draw:   0.000 | blue reward:  13.523 | timestep:  84.000 | blue catch:   0.000 | blue attack:   2.216 | blue island dead:   0.000 | blue reward feedback:   0.000 | seed:  18.000\n",
      "12-24 12:53:13 | Episode:    20 | blue win:   0.000 | red win:   1.000 | draw:   0.000 | blue reward:  17.472 | timestep:  85.000 | blue catch:   1.000 | blue attack:   2.315 | blue island dead:   1.000 | blue reward feedback:   0.000 | seed:  12.000\n",
      "12-24 12:53:13 | Episode:    21 | blue win:   0.000 | red win:   1.000 | draw:   0.000 | blue reward:  12.205 | timestep:  83.000 | blue catch:   0.000 | blue attack:   1.537 | blue island dead:   0.000 | blue reward feedback:   0.000 | seed:  20.000\n",
      "12-24 12:53:16 | Episode:    22 | blue win:   0.000 | red win:   1.000 | draw:   0.000 | blue reward:   8.367 | timestep:  83.000 | blue catch:   0.000 | blue attack:   0.645 | blue island dead:   1.000 | blue reward feedback:   0.000 | seed:  21.000\n",
      "12-24 12:53:16 | Episode:    23 | blue win:   0.000 | red win:   1.000 | draw:   0.000 | blue reward:  10.248 | timestep:  83.000 | blue catch:   0.000 | blue attack:   1.898 | blue island dead:   1.000 | blue reward feedback:   0.000 | seed:  22.000\n",
      "12-24 12:53:16 | Episode:    24 | blue win:   0.000 | red win:   1.000 | draw:   0.000 | blue reward:  16.000 | timestep:  83.000 | blue catch:   1.000 | blue attack:   1.733 | blue island dead:   1.000 | blue reward feedback:   0.000 | seed:  24.000\n",
      "12-24 12:53:16 | Episode:    25 | blue win:   0.000 | red win:   1.000 | draw:   0.000 | blue reward:  11.844 | timestep:  83.000 | blue catch:   0.000 | blue attack:   1.296 | blue island dead:   0.000 | blue reward feedback:   0.000 | seed:  25.000\n",
      "12-24 12:53:16 | Episode:    26 | blue win:   0.000 | red win:   1.000 | draw:   0.000 | blue reward:  12.034 | timestep:  83.000 | blue catch:   0.000 | blue attack:   1.423 | blue island dead:   0.000 | blue reward feedback:   0.000 | seed:  26.000\n",
      "12-24 12:53:16 | Episode:    27 | blue win:   0.000 | red win:   1.000 | draw:   0.000 | blue reward:  13.044 | timestep:  84.000 | blue catch:   0.000 | blue attack:   1.896 | blue island dead:   0.000 | blue reward feedback:   0.000 | seed:  23.000\n",
      "12-24 12:53:16 | Episode:    28 | blue win:   0.000 | red win:   1.000 | draw:   0.000 | blue reward:   9.486 | timestep:  83.000 | blue catch:   0.000 | blue attack:   1.391 | blue island dead:   1.000 | blue reward feedback:   0.000 | seed:  27.000\n",
      "12-24 12:53:16 | Episode:    29 | blue win:   0.000 | red win:   1.000 | draw:   0.000 | blue reward:  17.569 | timestep:  83.000 | blue catch:   1.000 | blue attack:   1.113 | blue island dead:   0.000 | blue reward feedback:   0.000 | seed:  28.000\n",
      "12-24 12:53:16 | Episode:    30 | blue win:   0.000 | red win:   1.000 | draw:   0.000 | blue reward:  13.544 | timestep:  83.000 | blue catch:   0.000 | blue attack:   2.429 | blue island dead:   0.000 | blue reward feedback:   0.000 | seed:  29.000\n",
      "12-24 12:53:16 | Episode:    31 | blue win:   0.000 | red win:   1.000 | draw:   0.000 | blue reward:  16.446 | timestep:  83.000 | blue catch:   1.000 | blue attack:   2.031 | blue island dead:   1.000 | blue reward feedback:   0.000 | seed:  30.000\n",
      "12-24 12:53:19 | Episode:    32 | blue win:   0.000 | red win:   1.000 | draw:   0.000 | blue reward:  12.362 | timestep:  83.000 | blue catch:   0.000 | blue attack:   1.641 | blue island dead:   0.000 | blue reward feedback:   0.000 | seed:  32.000\n",
      "12-24 12:53:19 | Episode:    33 | blue win:   0.000 | red win:   1.000 | draw:   0.000 | blue reward:  12.647 | timestep:  83.000 | blue catch:   0.000 | blue attack:   1.831 | blue island dead:   0.000 | blue reward feedback:   0.000 | seed:  33.000\n",
      "12-24 12:53:19 | Episode:    34 | blue win:   0.000 | red win:   1.000 | draw:   0.000 | blue reward:  11.639 | timestep:  84.000 | blue catch:   0.000 | blue attack:   0.960 | blue island dead:   0.000 | blue reward feedback:   0.000 | seed:  31.000\n",
      "12-24 12:53:19 | Episode:    35 | blue win:   0.000 | red win:   1.000 | draw:   0.000 | blue reward:  14.442 | timestep:  83.000 | blue catch:   0.000 | blue attack:   3.028 | blue island dead:   0.000 | blue reward feedback:   0.000 | seed:  35.000\n",
      "12-24 12:53:19 | Episode:    36 | blue win:   0.000 | red win:   1.000 | draw:   0.000 | blue reward:  12.758 | timestep:  83.000 | blue catch:   0.000 | blue attack:   1.905 | blue island dead:   0.000 | blue reward feedback:   0.000 | seed:  37.000\n",
      "12-24 12:53:19 | Episode:    37 | blue win:   0.000 | red win:   1.000 | draw:   0.000 | blue reward:  14.461 | timestep:  84.000 | blue catch:   0.000 | blue attack:   2.841 | blue island dead:   0.000 | blue reward feedback:   0.000 | seed:  34.000\n",
      "12-24 12:53:19 | Episode:    38 | blue win:   0.000 | red win:   1.000 | draw:   0.000 | blue reward:  11.561 | timestep:  83.000 | blue catch:   0.000 | blue attack:   1.108 | blue island dead:   0.000 | blue reward feedback:   0.000 | seed:  40.000\n",
      "12-24 12:53:19 | Episode:    39 | blue win:   0.000 | red win:   1.000 | draw:   0.000 | blue reward:  26.788 | timestep:  84.000 | blue catch:   2.000 | blue attack:   3.058 | blue island dead:   0.000 | blue reward feedback:   0.000 | seed:  36.000\n",
      "12-24 12:53:19 | Episode:    40 | blue win:   0.000 | red win:   1.000 | draw:   0.000 | blue reward:   7.409 | timestep:  84.000 | blue catch:   0.000 | blue attack:   1.472 | blue island dead:   2.000 | blue reward feedback:   0.000 | seed:  38.000\n",
      "12-24 12:53:19 | Episode:    41 | blue win:   0.000 | red win:   1.000 | draw:   0.000 | blue reward:  13.722 | timestep:  84.000 | blue catch:   0.000 | blue attack:   2.348 | blue island dead:   0.000 | blue reward feedback:   0.000 | seed:  39.000\n",
      "12-24 12:53:22 | Episode:    42 | blue win:   0.000 | red win:   1.000 | draw:   0.000 | blue reward:  12.731 | timestep:  83.000 | blue catch:   0.000 | blue attack:   1.887 | blue island dead:   0.000 | blue reward feedback:   0.000 | seed:  41.000\n",
      "12-24 12:53:22 | Episode:    43 | blue win:   0.000 | red win:   1.000 | draw:   0.000 | blue reward:  12.501 | timestep:  83.000 | blue catch:   0.000 | blue attack:   1.734 | blue island dead:   0.000 | blue reward feedback:   0.000 | seed:  42.000\n",
      "12-24 12:53:22 | Episode:    44 | blue win:   0.000 | red win:   1.000 | draw:   0.000 | blue reward:  12.714 | timestep:  83.000 | blue catch:   0.000 | blue attack:   1.876 | blue island dead:   0.000 | blue reward feedback:   0.000 | seed:  45.000\n",
      "12-24 12:53:22 | Episode:    45 | blue win:   0.000 | red win:   1.000 | draw:   0.000 | blue reward:  13.486 | timestep:  84.000 | blue catch:   0.000 | blue attack:   2.191 | blue island dead:   0.000 | blue reward feedback:   0.000 | seed:  43.000\n",
      "12-24 12:53:22 | Episode:    46 | blue win:   0.000 | red win:   1.000 | draw:   0.000 | blue reward:  12.294 | timestep:  84.000 | blue catch:   0.000 | blue attack:   1.396 | blue island dead:   0.000 | blue reward feedback:   0.000 | seed:  44.000\n",
      "12-24 12:53:22 | Episode:    47 | blue win:   0.000 | red win:   1.000 | draw:   0.000 | blue reward:  12.246 | timestep:  83.000 | blue catch:   0.000 | blue attack:   1.564 | blue island dead:   0.000 | blue reward feedback:   0.000 | seed:  48.000\n",
      "12-24 12:53:22 | Episode:    48 | blue win:   0.000 | red win:   1.000 | draw:   0.000 | blue reward:  10.481 | timestep:  83.000 | blue catch:   0.000 | blue attack:   2.054 | blue island dead:   1.000 | blue reward feedback:   0.000 | seed:  49.000\n",
      "12-24 12:53:22 | Episode:    49 | blue win:   0.000 | red win:   1.000 | draw:   0.000 | blue reward:  16.965 | timestep:  83.000 | blue catch:   1.000 | blue attack:   2.377 | blue island dead:   1.000 | blue reward feedback:   0.000 | seed:  50.000\n",
      "12-24 12:53:22 | Episode:    50 | blue win:   0.000 | red win:   1.000 | draw:   0.000 | blue reward:   8.989 | timestep:  84.000 | blue catch:   0.000 | blue attack:   0.859 | blue island dead:   1.000 | blue reward feedback:   0.000 | seed:  46.000\n",
      "12-24 12:53:22 | Episode:    51 | blue win:   0.000 | red win:   1.000 | draw:   0.000 | blue reward:  26.031 | timestep:  84.000 | blue catch:   2.000 | blue attack:   2.554 | blue island dead:   0.000 | blue reward feedback:   0.000 | seed:  47.000\n"
     ]
    }
   ],
   "source": [
    "cnt = 0 \n",
    "num_episode = 500\n",
    "config.exp_name = \"exp_2_approachB\"\n",
    "\n",
    "root = pjoin(\"results\", config.exp_name)\n",
    "os.makedirs(root, exist_ok=True)\n",
    "logger = Logger(filename=pjoin(root, 'exp_2_approachB.log'), config=config, mode='eval')\n",
    "\n",
    "while True:\n",
    "    with torch.no_grad():  # Make a decision\n",
    "        action_b, curr_graph = agent_blue.get_action(obs_b)\n",
    "        action_r = agent_red.get_action(obs_r)\n",
    "\n",
    "    # Environment step\n",
    "    (next_obs_b, next_obs_r), (reward_b, reward_r), done, _, info = env.step(action_b, action_r)\n",
    "\n",
    "    # Assign next state\n",
    "    obs_b = next_obs_b  \n",
    "    obs_r = next_obs_r\n",
    "\n",
    "\n",
    "    for info_ in info:\n",
    "        if info_['seed'] <= num_episode:\n",
    "            logger.log_episode(info_)\n",
    "            cnt += 1\n",
    "\n",
    "    if num_episode == cnt:\n",
    "            break\n"
   ]
  },
  {
   "cell_type": "code",
   "execution_count": null,
   "metadata": {},
   "outputs": [],
   "source": []
  }
 ],
 "metadata": {
  "kernelspec": {
   "display_name": "newenv",
   "language": "python",
   "name": "python3"
  },
  "language_info": {
   "codemirror_mode": {
    "name": "ipython",
    "version": 3
   },
   "file_extension": ".py",
   "mimetype": "text/x-python",
   "name": "python",
   "nbconvert_exporter": "python",
   "pygments_lexer": "ipython3",
   "version": "3.9.21"
  }
 },
 "nbformat": 4,
 "nbformat_minor": 2
}
